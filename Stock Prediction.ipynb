{
 "cells": [
  {
   "cell_type": "code",
   "execution_count": null,
   "id": "53a200cc",
   "metadata": {},
   "outputs": [],
   "source": [
    "#Artificial Intelligence in the Stock Market\n",
    "#Research Gap - Timing the Market\n"
   ]
  },
  {
   "cell_type": "code",
   "execution_count": 1,
   "id": "bd060493",
   "metadata": {},
   "outputs": [],
   "source": [
    "#Importing Libraries\n",
    "import numpy as np\n",
    "import matplotlib.pyplot as plt\n",
    "import pandas as pd\n",
    "import os\n",
    "%matplotlib inline"
   ]
  },
  {
   "cell_type": "code",
   "execution_count": 2,
   "id": "75c287d5",
   "metadata": {
    "scrolled": false
   },
   "outputs": [
    {
     "data": {
      "text/html": [
       "<div>\n",
       "<style scoped>\n",
       "    .dataframe tbody tr th:only-of-type {\n",
       "        vertical-align: middle;\n",
       "    }\n",
       "\n",
       "    .dataframe tbody tr th {\n",
       "        vertical-align: top;\n",
       "    }\n",
       "\n",
       "    .dataframe thead th {\n",
       "        text-align: right;\n",
       "    }\n",
       "</style>\n",
       "<table border=\"1\" class=\"dataframe\">\n",
       "  <thead>\n",
       "    <tr style=\"text-align: right;\">\n",
       "      <th></th>\n",
       "      <th>Date</th>\n",
       "      <th>Open</th>\n",
       "      <th>High</th>\n",
       "      <th>Low</th>\n",
       "      <th>Close</th>\n",
       "      <th>Adj Close</th>\n",
       "      <th>Volume</th>\n",
       "    </tr>\n",
       "  </thead>\n",
       "  <tbody>\n",
       "    <tr>\n",
       "      <th>0</th>\n",
       "      <td>1993-01-25</td>\n",
       "      <td>43.96875</td>\n",
       "      <td>43.96875</td>\n",
       "      <td>43.75000</td>\n",
       "      <td>43.93750</td>\n",
       "      <td>25.334036</td>\n",
       "      <td>1003200</td>\n",
       "    </tr>\n",
       "    <tr>\n",
       "      <th>1</th>\n",
       "      <td>1993-02-01</td>\n",
       "      <td>43.96875</td>\n",
       "      <td>45.09375</td>\n",
       "      <td>43.96875</td>\n",
       "      <td>44.96875</td>\n",
       "      <td>25.928637</td>\n",
       "      <td>2234800</td>\n",
       "    </tr>\n",
       "    <tr>\n",
       "      <th>2</th>\n",
       "      <td>1993-02-08</td>\n",
       "      <td>44.96875</td>\n",
       "      <td>45.12500</td>\n",
       "      <td>44.53125</td>\n",
       "      <td>44.59375</td>\n",
       "      <td>25.712421</td>\n",
       "      <td>1159800</td>\n",
       "    </tr>\n",
       "    <tr>\n",
       "      <th>3</th>\n",
       "      <td>1993-02-15</td>\n",
       "      <td>44.46875</td>\n",
       "      <td>44.46875</td>\n",
       "      <td>42.81250</td>\n",
       "      <td>43.56250</td>\n",
       "      <td>25.117785</td>\n",
       "      <td>998700</td>\n",
       "    </tr>\n",
       "    <tr>\n",
       "      <th>4</th>\n",
       "      <td>1993-02-22</td>\n",
       "      <td>43.68750</td>\n",
       "      <td>44.43750</td>\n",
       "      <td>43.46875</td>\n",
       "      <td>44.40625</td>\n",
       "      <td>25.604307</td>\n",
       "      <td>1024300</td>\n",
       "    </tr>\n",
       "  </tbody>\n",
       "</table>\n",
       "</div>"
      ],
      "text/plain": [
       "         Date      Open      High       Low     Close  Adj Close   Volume\n",
       "0  1993-01-25  43.96875  43.96875  43.75000  43.93750  25.334036  1003200\n",
       "1  1993-02-01  43.96875  45.09375  43.96875  44.96875  25.928637  2234800\n",
       "2  1993-02-08  44.96875  45.12500  44.53125  44.59375  25.712421  1159800\n",
       "3  1993-02-15  44.46875  44.46875  42.81250  43.56250  25.117785   998700\n",
       "4  1993-02-22  43.68750  44.43750  43.46875  44.40625  25.604307  1024300"
      ]
     },
     "execution_count": 2,
     "metadata": {},
     "output_type": "execute_result"
    }
   ],
   "source": [
    "#Load the training Dataset\n",
    "dataset_train = pd.read_csv('/users/nis/Desktop/All/MachineLearning/SPY_t.csv')\n",
    "dataset_train.head()"
   ]
  },
  {
   "cell_type": "code",
   "execution_count": 4,
   "id": "ad3238e7",
   "metadata": {
    "scrolled": false
   },
   "outputs": [
    {
     "name": "stdout",
     "output_type": "stream",
     "text": [
      "<class 'pandas.core.frame.DataFrame'>\n",
      "RangeIndex: 1510 entries, 0 to 1509\n",
      "Data columns (total 7 columns):\n",
      " #   Column     Non-Null Count  Dtype  \n",
      "---  ------     --------------  -----  \n",
      " 0   Date       1510 non-null   object \n",
      " 1   Open       1510 non-null   float64\n",
      " 2   High       1510 non-null   float64\n",
      " 3   Low        1510 non-null   float64\n",
      " 4   Close      1510 non-null   float64\n",
      " 5   Adj Close  1510 non-null   float64\n",
      " 6   Volume     1510 non-null   int64  \n",
      "dtypes: float64(5), int64(1), object(1)\n",
      "memory usage: 82.7+ KB\n"
     ]
    }
   ],
   "source": [
    "dataset_train.info()"
   ]
  },
  {
   "cell_type": "code",
   "execution_count": 5,
   "id": "5d72d467",
   "metadata": {
    "scrolled": false
   },
   "outputs": [
    {
     "name": "stdout",
     "output_type": "stream",
     "text": [
      "[[ 43.9375  ]\n",
      " [ 44.96875 ]\n",
      " [ 44.59375 ]\n",
      " ...\n",
      " [459.869995]\n",
      " [470.600006]\n",
      " [476.160004]]\n",
      "(1510, 1)\n"
     ]
    }
   ],
   "source": [
    "#Using the 'Close' collumn to train the model\n",
    "training_set = dataset_train.iloc[:,4:5].values\n",
    "print(training_set)\n",
    "print(training_set.shape) #The .shape attribute returns the dimensions of the NumPy array as a tuple (number of rows, number of columns)."
   ]
  },
  {
   "cell_type": "code",
   "execution_count": 6,
   "id": "aae2d7f8",
   "metadata": {},
   "outputs": [
    {
     "data": {
      "text/plain": [
       "array([[8.66856597e-04],\n",
       "       [3.25071224e-03],\n",
       "       [2.38385564e-03],\n",
       "       ...,\n",
       "       [9.62343729e-01],\n",
       "       [9.87147411e-01],\n",
       "       [1.00000000e+00]])"
      ]
     },
     "execution_count": 6,
     "metadata": {},
     "output_type": "execute_result"
    }
   ],
   "source": [
    "#Normalize the Dataset\n",
    "#Normalization is changing the values of numeric columns in the dataset to a common scale, which helps the performance of our model. \n",
    "#To scale the training dataset we use Scikit-Learn’s MinMaxScaler with numbers between zero and one.\n",
    "from sklearn.preprocessing import MinMaxScaler\n",
    "sc = MinMaxScaler(feature_range=(0,1))\n",
    "training_set_scaled = sc.fit_transform(training_set)\n",
    "training_set_scaled"
   ]
  },
  {
   "cell_type": "code",
   "execution_count": 7,
   "id": "f8ccff57",
   "metadata": {},
   "outputs": [
    {
     "name": "stdout",
     "output_type": "stream",
     "text": [
      "(1198, 60)\n",
      "(1198,)\n"
     ]
    }
   ],
   "source": [
    "#Creating training variables\n",
    "#input our data in the form of a 3D array to the LSTM model. \n",
    "#First,create data in 60 timesteps before using numpy to convert it into an array.\n",
    "#Finally, we convert the data into a 3D array with X_train samples, 60 timestamps, and one feature at each step.\n",
    "\n",
    "X_train = []\n",
    "y_train = []\n",
    "for i in range(60, 1258):\n",
    "    X_train.append(training_set_scaled[i-60:i, 0])\n",
    "    y_train.append(training_set_scaled[i, 0])\n",
    "X_train = np.array(X_train)\n",
    "y_train = np.array(y_train)\n",
    "print(X_train.shape)\n",
    "print(y_train.shape)"
   ]
  },
  {
   "cell_type": "code",
   "execution_count": 8,
   "id": "3e3361ca",
   "metadata": {},
   "outputs": [
    {
     "data": {
      "text/plain": [
       "(1198, 60, 1)"
      ]
     },
     "execution_count": 8,
     "metadata": {},
     "output_type": "execute_result"
    }
   ],
   "source": [
    "#Reshape the Data\n",
    "X_train = np.reshape(X_train,(X_train.shape[0], X_train.shape[1],1))\n",
    "X_train.shape"
   ]
  },
  {
   "cell_type": "code",
   "execution_count": 9,
   "id": "a50269c5",
   "metadata": {},
   "outputs": [
    {
     "name": "stderr",
     "output_type": "stream",
     "text": [
      "2022-11-28 17:59:11.059744: I tensorflow/core/platform/cpu_feature_guard.cc:193] This TensorFlow binary is optimized with oneAPI Deep Neural Network Library (oneDNN) to use the following CPU instructions in performance-critical operations:  AVX2 FMA\n",
      "To enable them in other operations, rebuild TensorFlow with the appropriate compiler flags.\n"
     ]
    }
   ],
   "source": [
    "#Importing Libraries\n",
    "from keras.models import Sequential\n",
    "from keras.layers import LSTM\n",
    "from keras.layers import Dropout\n",
    "from keras.layers import Dense"
   ]
  },
  {
   "cell_type": "code",
   "execution_count": 10,
   "id": "2c162898",
   "metadata": {},
   "outputs": [
    {
     "name": "stderr",
     "output_type": "stream",
     "text": [
      "2022-11-28 18:00:20.585023: I tensorflow/core/platform/cpu_feature_guard.cc:193] This TensorFlow binary is optimized with oneAPI Deep Neural Network Library (oneDNN) to use the following CPU instructions in performance-critical operations:  AVX2 FMA\n",
      "To enable them in other operations, rebuild TensorFlow with the appropriate compiler flags.\n"
     ]
    }
   ],
   "source": [
    "#Adding different layers to LSTM\n",
    "#The LSTM layer is added with the following arguments: 50 units is the dimensionality of the output space,return_sequences=True is necessary for stacking LSTM layers so the consequent LSTM layer has a three-dimensional sequence input, and input_shape is the shape of the training dataset.\n",
    "#Specifying 0.4 in the Dropout layer means that 40% of the layers will be dropped. Following the LSTM and Dropout layers, we add the Dense layer that specifies an output of one unit.\n",
    "model = Sequential()\n",
    "model.add(LSTM(units=50,return_sequences=True,input_shape=(X_train.shape[1], 1)))\n",
    "model.add(Dropout(0.4))\n",
    "\n",
    "model.add(LSTM(units=50,return_sequences=True))\n",
    "model.add(Dropout(0.4))\n",
    "\n",
    "model.add(LSTM(units=50,return_sequences=True))\n",
    "model.add(Dropout(0.4))\n",
    "\n",
    "model.add(LSTM(units=50,return_sequences=True))\n",
    "model.add(Dropout(0.4))\n",
    "\n",
    "model.add(LSTM(units=50))\n",
    "model.add(Dropout(0.4))\n",
    "\n",
    "model.add(Dense(units=1))"
   ]
  },
  {
   "cell_type": "code",
   "execution_count": 11,
   "id": "1c7ae4a4",
   "metadata": {
    "scrolled": true
   },
   "outputs": [
    {
     "name": "stdout",
     "output_type": "stream",
     "text": [
      "Epoch 1/10\n",
      "38/38 [==============================] - 54s 453ms/step - loss: 0.0064\n",
      "Epoch 2/10\n",
      "38/38 [==============================] - 21s 554ms/step - loss: 0.0019\n",
      "Epoch 3/10\n",
      "38/38 [==============================] - 21s 566ms/step - loss: 0.0015\n",
      "Epoch 4/10\n",
      "38/38 [==============================] - 25s 657ms/step - loss: 0.0015\n",
      "Epoch 5/10\n",
      "38/38 [==============================] - 25s 657ms/step - loss: 0.0012\n",
      "Epoch 6/10\n",
      "38/38 [==============================] - 23s 590ms/step - loss: 0.0012\n",
      "Epoch 7/10\n",
      "38/38 [==============================] - 25s 646ms/step - loss: 0.0011\n",
      "Epoch 8/10\n",
      "38/38 [==============================] - 23s 590ms/step - loss: 0.0010\n",
      "Epoch 9/10\n",
      "38/38 [==============================] - 22s 570ms/step - loss: 0.0011\n",
      "Epoch 10/10\n",
      "38/38 [==============================] - 24s 637ms/step - loss: 0.0011\n"
     ]
    }
   ],
   "source": [
    "#Fitting the Model\n",
    "#To compile our model we use the Adam optimizer and set the loss as the mean_squared_error.\n",
    "#After that, we fit the model to run for 10 epochs (the epochs are the number of times the learning algorithm will work through the entire training set) with a batch size of 32.\n",
    "model.compile(optimizer='adam',loss='mean_squared_error')\n",
    "hist = model.fit(X_train,y_train,epochs=10,batch_size=32)"
   ]
  },
  {
   "cell_type": "code",
   "execution_count": 31,
   "id": "beaa8cff",
   "metadata": {},
   "outputs": [
    {
     "data": {
      "image/png": "[encoded data removed]",
      "text/plain": [
       "<Figure size 432x288 with 1 Axes>"
      ]
     },
     "metadata": {
      "needs_background": "light"
     },
     "output_type": "display_data"
    }
   ],
   "source": [
    "#Plotting Training Model Loss\n",
    "plt.plot(hist.history['loss'])\n",
    "plt.title('Training model loss')\n",
    "plt.ylabel('loss')\n",
    "plt.xlabel('epoch')\n",
    "plt.legend(['train'], loc = 'upper left')\n",
    "plt.show()"
   ]
  },
  {
   "cell_type": "code",
   "execution_count": 32,
   "id": "4f868959",
   "metadata": {},
   "outputs": [],
   "source": [
    "#Extracting the Actual price\n",
    "dataset_test = pd.read_csv('/users/nis/Desktop/All/MachineLearning/SPY.csv')\n",
    "real_stock_price = dataset_test.iloc[:,4:5].values"
   ]
  },
  {
   "cell_type": "code",
   "execution_count": 33,
   "id": "1c8f593b",
   "metadata": {},
   "outputs": [],
   "source": [
    "#Preparing the input of the Model\n",
    "#Before predicting future stock prices, we have to modify the test set(similar to the training set): merge the training set and the test set on the 0 axis, set 60 as the time step again, use MinMaxScaler, and reshape data.\n",
    "dataset_total = pd.concat((dataset_train['Close'], dataset_test['Close']), axis = 0)\n",
    "inputs = dataset_total[len(dataset_total) - len(dataset_test) - 60:].values\n",
    "inputs = inputs.reshape(-1,1)\n",
    "inputs = sc.transform(inputs)\n",
    "X_test = []\n",
    "for i in range(60,115):\n",
    "    X_test.append(inputs[i-60:i, 0])\n",
    "X_test = np.array(X_test)\n",
    "X_test = np.reshape(X_test, (X_test.shape[0], X_test.shape[1], 1))"
   ]
  },
  {
   "cell_type": "code",
   "execution_count": 34,
   "id": "d7b395e4",
   "metadata": {
    "scrolled": true
   },
   "outputs": [
    {
     "name": "stdout",
     "output_type": "stream",
     "text": [
      "2/2 [==============================] - 2s 32ms/step\n"
     ]
    }
   ],
   "source": [
    "#Predicting the Values for the year 2022\n",
    "#inverse_transform puts the stock prices in a normal readable format.\n",
    "predicted_stock_price = model.predict(X_test)\n",
    "predicted_stock_price = sc.inverse_transform(predicted_stock_price)"
   ]
  },
  {
   "cell_type": "code",
   "execution_count": 15,
   "id": "06c48906",
   "metadata": {},
   "outputs": [
    {
     "data": {
      "image/png": "[encoded data removed]",
      "text/plain": [
       "<Figure size 432x288 with 1 Axes>"
      ]
     },
     "metadata": {
      "needs_background": "light"
     },
     "output_type": "display_data"
    }
   ],
   "source": [
    "#Plotting Actual and Predicted Price\n",
    "#use matplotlib to visualize the result of our predicted stock price and the actual stock price.\n",
    "plt.plot(real_stock_price, color = 'black', label = 'Actual SPY Price')\n",
    "plt.plot(predicted_stock_price, color = 'green', label = 'Predicted SPY Price')\n",
    "plt.title('SPY Price Prediction')\n",
    "plt.xlabel('YTD')\n",
    "plt.ylabel('SPY Price')\n",
    "plt.legend()\n",
    "plt.show()"
   ]
  },
  {
   "cell_type": "code",
   "execution_count": null,
   "id": "4c0a99fd",
   "metadata": {},
   "outputs": [],
   "source": [
    "#Conclusion - Not possible to time the market"
   ]
  }
 ],
 "metadata": {
  "kernelspec": {
   "display_name": "Python 3 (ipykernel)",
   "language": "python",
   "name": "python3"
  },
  "language_info": {
   "codemirror_mode": {
    "name": "ipython",
    "version": 3
   },
   "file_extension": ".py",
   "mimetype": "text/x-python",
   "name": "python",
   "nbconvert_exporter": "python",
   "pygments_lexer": "ipython3",
   "version": "3.9.12"
  }
 },
 "nbformat": 4,
 "nbformat_minor": 5
}
